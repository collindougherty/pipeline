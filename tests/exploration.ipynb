{
 "cells": [
  {
   "cell_type": "markdown",
   "metadata": {},
   "source": [
    "# Jupyter to Experiment with Data Manipulation"
   ]
  },
  {
   "cell_type": "code",
   "execution_count": 78,
   "metadata": {},
   "outputs": [],
   "source": [
    "import pandas as pd\n",
    "import numpy as np"
   ]
  },
  {
   "cell_type": "code",
   "execution_count": 79,
   "metadata": {},
   "outputs": [
    {
     "name": "stderr",
     "output_type": "stream",
     "text": [
      "/var/folders/w3/gtm29qhx0wj4wg_y2_jw07hw0000gn/T/ipykernel_2454/3775832774.py:3: DtypeWarning: Columns (161,164,167,173,174,175,176,177,178,179,218,219) have mixed types. Specify dtype option on import or set low_memory=False.\n",
      "  data_skin = pd.read_csv(\"/Users/collindougherty/Downloads/Desmoplastic Melanoma.csv\")\n"
     ]
    }
   ],
   "source": [
    "# Import data\n",
    "#data_breast = pd.read_csv(\"/Users/collindougherty/Downloads/ncdb_santamaria.csv\")\n",
    "data_skin = pd.read_csv(\"/Users/collindougherty/Downloads/Desmoplastic Melanoma.csv\")"
   ]
  },
  {
   "cell_type": "code",
   "execution_count": 80,
   "metadata": {},
   "outputs": [],
   "source": [
    "# # Assuming df1 and df2 are your two dataframes\n",
    "\n",
    "# # Comparing column names\n",
    "# if set(data_breast.columns) == set(data_skin.columns):\n",
    "#     print(\"The dataframes have the same columns\")\n",
    "# else:\n",
    "#     print(\"The dataframes have different columns\")\n"
   ]
  },
  {
   "cell_type": "code",
   "execution_count": 81,
   "metadata": {},
   "outputs": [],
   "source": [
    "# ok great, now we begin making the variables ready for ML modeling\n",
    "# first we should make it RF ready, then its an easy leap to make it one hot encoded\n",
    "# we may run into a memory issue when one-hot encoding, but we'll face that problem when we get to it\n",
    "\n",
    "# lets make a small df that we can use simply for manipulation \n",
    "df = data_skin.head(20)\n",
    "\n",
    "# as we go id like to rename the variables, ncdb variable naming convention sucks"
   ]
  },
  {
   "cell_type": "code",
   "execution_count": 82,
   "metadata": {},
   "outputs": [
    {
     "name": "stderr",
     "output_type": "stream",
     "text": [
      "/var/folders/w3/gtm29qhx0wj4wg_y2_jw07hw0000gn/T/ipykernel_2454/332379755.py:3: SettingWithCopyWarning: \n",
      "A value is trying to be set on a copy of a slice from a DataFrame\n",
      "\n",
      "See the caveats in the documentation: https://pandas.pydata.org/pandas-docs/stable/user_guide/indexing.html#returning-a-view-versus-a-copy\n",
      "  df.rename(columns={'PUF_CASE_ID':'CaseID'}, inplace=True)\n"
     ]
    }
   ],
   "source": [
    "# we will need to discard ids for training, but lets make note of them for now\n",
    "# first rename PUF_CASE_ID to Case\n",
    "df.rename(columns={'PUF_CASE_ID':'CaseID'}, inplace=True)\n",
    "ids = [\"CaseID\"]\n",
    "# set CaseID as the index\n",
    "df.set_index(\"CaseID\", inplace=True)"
   ]
  },
  {
   "cell_type": "code",
   "execution_count": 83,
   "metadata": {},
   "outputs": [
    {
     "name": "stderr",
     "output_type": "stream",
     "text": [
      "/var/folders/w3/gtm29qhx0wj4wg_y2_jw07hw0000gn/T/ipykernel_2454/385246358.py:2: SettingWithCopyWarning: \n",
      "A value is trying to be set on a copy of a slice from a DataFrame.\n",
      "Try using .loc[row_indexer,col_indexer] = value instead\n",
      "\n",
      "See the caveats in the documentation: https://pandas.pydata.org/pandas-docs/stable/user_guide/indexing.html#returning-a-view-versus-a-copy\n",
      "  df['PUF_FACILITY_ID'] = df['PUF_FACILITY_ID'].astype('category')\n",
      "/var/folders/w3/gtm29qhx0wj4wg_y2_jw07hw0000gn/T/ipykernel_2454/385246358.py:8: SettingWithCopyWarning: \n",
      "A value is trying to be set on a copy of a slice from a DataFrame.\n",
      "Try using .loc[row_indexer,col_indexer] = value instead\n",
      "\n",
      "See the caveats in the documentation: https://pandas.pydata.org/pandas-docs/stable/user_guide/indexing.html#returning-a-view-versus-a-copy\n",
      "  df['PUF_FACILITY_ID'] = df['PUF_FACILITY_ID'].map(code_dict)\n",
      "/var/folders/w3/gtm29qhx0wj4wg_y2_jw07hw0000gn/T/ipykernel_2454/385246358.py:11: SettingWithCopyWarning: \n",
      "A value is trying to be set on a copy of a slice from a DataFrame\n",
      "\n",
      "See the caveats in the documentation: https://pandas.pydata.org/pandas-docs/stable/user_guide/indexing.html#returning-a-view-versus-a-copy\n",
      "  df.rename(columns = {'PUF_FACILITY_ID':'Facility'}, inplace = True)\n"
     ]
    }
   ],
   "source": [
    "# Make sure `PUF_FACILITY_ID` is a category if it isn't already\n",
    "df['PUF_FACILITY_ID'] = df['PUF_FACILITY_ID'].astype('category')\n",
    "\n",
    "# Create a dictionary to map old codes to new\n",
    "code_dict = {orig_id: f\"Facility {code + 1}\" for code, orig_id in enumerate(df['PUF_FACILITY_ID'].cat.categories)}\n",
    "\n",
    "# Create new 'Facility' column\n",
    "df['PUF_FACILITY_ID'] = df['PUF_FACILITY_ID'].map(code_dict)\n",
    "\n",
    "# rename the column to something more intuitive\n",
    "df.rename(columns = {'PUF_FACILITY_ID':'Facility'}, inplace = True)"
   ]
  },
  {
   "cell_type": "code",
   "execution_count": 84,
   "metadata": {},
   "outputs": [
    {
     "name": "stderr",
     "output_type": "stream",
     "text": [
      "/var/folders/w3/gtm29qhx0wj4wg_y2_jw07hw0000gn/T/ipykernel_2454/855160307.py:10: SettingWithCopyWarning: \n",
      "A value is trying to be set on a copy of a slice from a DataFrame.\n",
      "Try using .loc[row_indexer,col_indexer] = value instead\n",
      "\n",
      "See the caveats in the documentation: https://pandas.pydata.org/pandas-docs/stable/user_guide/indexing.html#returning-a-view-versus-a-copy\n",
      "  df['FACILITY_TYPE_CD'] = df['FACILITY_TYPE_CD'].astype('category')\n",
      "/var/folders/w3/gtm29qhx0wj4wg_y2_jw07hw0000gn/T/ipykernel_2454/855160307.py:16: SettingWithCopyWarning: \n",
      "A value is trying to be set on a copy of a slice from a DataFrame.\n",
      "Try using .loc[row_indexer,col_indexer] = value instead\n",
      "\n",
      "See the caveats in the documentation: https://pandas.pydata.org/pandas-docs/stable/user_guide/indexing.html#returning-a-view-versus-a-copy\n",
      "  df['FACILITY_TYPE_CD'] = df['FACILITY_TYPE_CD'].map(code_dict)\n",
      "/var/folders/w3/gtm29qhx0wj4wg_y2_jw07hw0000gn/T/ipykernel_2454/855160307.py:19: SettingWithCopyWarning: \n",
      "A value is trying to be set on a copy of a slice from a DataFrame\n",
      "\n",
      "See the caveats in the documentation: https://pandas.pydata.org/pandas-docs/stable/user_guide/indexing.html#returning-a-view-versus-a-copy\n",
      "  df.rename(columns = {'FACILITY_TYPE_CD':'Type of Facility'}, inplace = True)\n"
     ]
    }
   ],
   "source": [
    "# rename FACILITY_TYPE_CD accordingly: Code Definition\n",
    "# 1 Community Cancer Program\n",
    "# 2 Comprehensive Community Cancer Program\n",
    "# 3 Academic/Research Program (includes NCI-designated comprehensive\n",
    "# cancer centers)\n",
    "# 4 Integrated Network Cancer Program\n",
    "# blank Not available\n",
    "\n",
    "# Make sure `FACILITY_TYPE_CD` is a category if it isn't already\n",
    "df['FACILITY_TYPE_CD'] = df['FACILITY_TYPE_CD'].astype('category')\n",
    "\n",
    "# Create a dictionary to map old codes to new\n",
    "code_dict = {1: \"Community Cancer Program\", 2: \"Comprehensive Community Cancer Program\", 3: \"Academic/Research Program\", 4: \"Integrated Network Cancer Program\", \" \": \"Not available\"}\n",
    "\n",
    "# Create new 'Facility' column\n",
    "df['FACILITY_TYPE_CD'] = df['FACILITY_TYPE_CD'].map(code_dict)\n",
    "\n",
    "# rename the column to something more intuitive\n",
    "df.rename(columns = {'FACILITY_TYPE_CD':'Type of Facility'}, inplace = True)"
   ]
  },
  {
   "cell_type": "code",
   "execution_count": 85,
   "metadata": {},
   "outputs": [
    {
     "name": "stderr",
     "output_type": "stream",
     "text": [
      "/var/folders/w3/gtm29qhx0wj4wg_y2_jw07hw0000gn/T/ipykernel_2454/53990053.py:14: SettingWithCopyWarning: \n",
      "A value is trying to be set on a copy of a slice from a DataFrame.\n",
      "Try using .loc[row_indexer,col_indexer] = value instead\n",
      "\n",
      "See the caveats in the documentation: https://pandas.pydata.org/pandas-docs/stable/user_guide/indexing.html#returning-a-view-versus-a-copy\n",
      "  df['FACILITY_LOCATION_CD'] = df['FACILITY_LOCATION_CD'].astype('category')\n",
      "/var/folders/w3/gtm29qhx0wj4wg_y2_jw07hw0000gn/T/ipykernel_2454/53990053.py:20: SettingWithCopyWarning: \n",
      "A value is trying to be set on a copy of a slice from a DataFrame.\n",
      "Try using .loc[row_indexer,col_indexer] = value instead\n",
      "\n",
      "See the caveats in the documentation: https://pandas.pydata.org/pandas-docs/stable/user_guide/indexing.html#returning-a-view-versus-a-copy\n",
      "  df['FACILITY_LOCATION_CD'] = df['FACILITY_LOCATION_CD'].map(code_dict)\n",
      "/var/folders/w3/gtm29qhx0wj4wg_y2_jw07hw0000gn/T/ipykernel_2454/53990053.py:23: SettingWithCopyWarning: \n",
      "A value is trying to be set on a copy of a slice from a DataFrame\n",
      "\n",
      "See the caveats in the documentation: https://pandas.pydata.org/pandas-docs/stable/user_guide/indexing.html#returning-a-view-versus-a-copy\n",
      "  df.rename(columns = {'FACILITY_LOCATION_CD':'Region (Facility)'}, inplace = True)\n"
     ]
    }
   ],
   "source": [
    "# rename the next FACILITY_LOCATION_CD accordingly: Code Definition State Grouping\n",
    "# 1 New England CT, MA, ME, NH, RI, VT\n",
    "# 2 Middle Atlantic NJ, NY, PA\n",
    "# 3 South Atlantic DC, DE, FL, GA, MD, NC, SC, VA, WV\n",
    "# 4 East North Central IL, IN, MI, OH, WI\n",
    "# 5 East South Central AL, KY, MS, TN\n",
    "# 6 West North Central IA, KS, MN, MO, ND, NE, SD\n",
    "# 7 West South Central AR, LA, OK, TX\n",
    "# 8 Mountain AZ, CO, ID, MT, NM, NV, UT, WY\n",
    "# 9 Pacific AK, CA, HI, OR, WA\n",
    "# blank Not available Not available\n",
    "\n",
    "# Make sure `FACILITY_LOCATION_CD` is a category if it isn't already\n",
    "df['FACILITY_LOCATION_CD'] = df['FACILITY_LOCATION_CD'].astype('category')\n",
    "\n",
    "# Create a dictionary to map old codes to new\n",
    "code_dict = {1: \"New England\", 2: \"Middle Atlantic\", 3: \"South Atlantic\", 4: \"East North Central\", 5: \"East South Central\", 6: \"West North Central\", 7: \"West South Central\", 8: \"Mountain\", 9: \"Pacific\", \" \": \"Not available\"}\n",
    "\n",
    "# Create new 'Facility' column\n",
    "df['FACILITY_LOCATION_CD'] = df['FACILITY_LOCATION_CD'].map(code_dict)\n",
    "\n",
    "# rename the column to something more intuitive\n",
    "df.rename(columns = {'FACILITY_LOCATION_CD':'Region (Facility)'}, inplace = True)"
   ]
  },
  {
   "cell_type": "code",
   "execution_count": 86,
   "metadata": {},
   "outputs": [],
   "source": [
    "# PUF_MULT_SOURCE and PUF_REFERENCE_DATE_FLAG dont exist in df"
   ]
  },
  {
   "cell_type": "code",
   "execution_count": 87,
   "metadata": {},
   "outputs": [
    {
     "name": "stderr",
     "output_type": "stream",
     "text": [
      "/var/folders/w3/gtm29qhx0wj4wg_y2_jw07hw0000gn/T/ipykernel_2454/3367737870.py:8: SettingWithCopyWarning: \n",
      "A value is trying to be set on a copy of a slice from a DataFrame\n",
      "\n",
      "See the caveats in the documentation: https://pandas.pydata.org/pandas-docs/stable/user_guide/indexing.html#returning-a-view-versus-a-copy\n",
      "  df.replace(999, np.nan, inplace=True)\n",
      "/var/folders/w3/gtm29qhx0wj4wg_y2_jw07hw0000gn/T/ipykernel_2454/3367737870.py:11: SettingWithCopyWarning: \n",
      "A value is trying to be set on a copy of a slice from a DataFrame\n",
      "\n",
      "See the caveats in the documentation: https://pandas.pydata.org/pandas-docs/stable/user_guide/indexing.html#returning-a-view-versus-a-copy\n",
      "  df.rename(columns = {'AGE':'Age at Diagnosis'}, inplace = True)\n"
     ]
    }
   ],
   "source": [
    "# rename AGE accordingly: Code Definition\n",
    "# 000 Less than one year old, or diagnosed in utero\n",
    "# 001 - 089 One to eighty nine years old\n",
    "# 090 Ninety or older\n",
    "# 999 Age at diagnosis unknown\n",
    "\n",
    "# so we want to replace 999 with NaN and then the rest should be int\n",
    "df.replace(999, np.nan, inplace=True)\n",
    "\n",
    "# rename the column to something more intuitive\n",
    "df.rename(columns = {'AGE':'Age at Diagnosis'}, inplace = True)"
   ]
  },
  {
   "cell_type": "code",
   "execution_count": 88,
   "metadata": {},
   "outputs": [
    {
     "name": "stderr",
     "output_type": "stream",
     "text": [
      "/var/folders/w3/gtm29qhx0wj4wg_y2_jw07hw0000gn/T/ipykernel_2454/4294777048.py:4: SettingWithCopyWarning: \n",
      "A value is trying to be set on a copy of a slice from a DataFrame.\n",
      "Try using .loc[row_indexer,col_indexer] = value instead\n",
      "\n",
      "See the caveats in the documentation: https://pandas.pydata.org/pandas-docs/stable/user_guide/indexing.html#returning-a-view-versus-a-copy\n",
      "  df['SEX'] = df['SEX'].astype('category')\n",
      "/var/folders/w3/gtm29qhx0wj4wg_y2_jw07hw0000gn/T/ipykernel_2454/4294777048.py:10: SettingWithCopyWarning: \n",
      "A value is trying to be set on a copy of a slice from a DataFrame.\n",
      "Try using .loc[row_indexer,col_indexer] = value instead\n",
      "\n",
      "See the caveats in the documentation: https://pandas.pydata.org/pandas-docs/stable/user_guide/indexing.html#returning-a-view-versus-a-copy\n",
      "  df['SEX'] = df['SEX'].map(code_dict)\n",
      "/var/folders/w3/gtm29qhx0wj4wg_y2_jw07hw0000gn/T/ipykernel_2454/4294777048.py:13: SettingWithCopyWarning: \n",
      "A value is trying to be set on a copy of a slice from a DataFrame\n",
      "\n",
      "See the caveats in the documentation: https://pandas.pydata.org/pandas-docs/stable/user_guide/indexing.html#returning-a-view-versus-a-copy\n",
      "  df.rename(columns = {'SEX':'Sex'}, inplace = True)\n"
     ]
    }
   ],
   "source": [
    "# for SEX, 1 is male 2 female\n",
    "\n",
    "# Make sure `SEX` is a category if it isn't already\n",
    "df['SEX'] = df['SEX'].astype('category')\n",
    "\n",
    "# Create a dictionary to map old codes to new\n",
    "code_dict = {1: \"Male\", 2:\"Female\"}\n",
    "\n",
    "# Create new 'SEX' column\n",
    "df['SEX'] = df['SEX'].map(code_dict)\n",
    "\n",
    "# rename the column to something more intuitive\n",
    "df.rename(columns = {'SEX':'Sex'}, inplace = True)"
   ]
  },
  {
   "cell_type": "code",
   "execution_count": 89,
   "metadata": {},
   "outputs": [
    {
     "name": "stderr",
     "output_type": "stream",
     "text": [
      "/var/folders/w3/gtm29qhx0wj4wg_y2_jw07hw0000gn/T/ipykernel_2454/2435810425.py:34: SettingWithCopyWarning: \n",
      "A value is trying to be set on a copy of a slice from a DataFrame.\n",
      "Try using .loc[row_indexer,col_indexer] = value instead\n",
      "\n",
      "See the caveats in the documentation: https://pandas.pydata.org/pandas-docs/stable/user_guide/indexing.html#returning-a-view-versus-a-copy\n",
      "  df['RACE'] = df['RACE'].astype('category')\n",
      "/var/folders/w3/gtm29qhx0wj4wg_y2_jw07hw0000gn/T/ipykernel_2454/2435810425.py:40: SettingWithCopyWarning: \n",
      "A value is trying to be set on a copy of a slice from a DataFrame.\n",
      "Try using .loc[row_indexer,col_indexer] = value instead\n",
      "\n",
      "See the caveats in the documentation: https://pandas.pydata.org/pandas-docs/stable/user_guide/indexing.html#returning-a-view-versus-a-copy\n",
      "  df['RACE'] = df['RACE'].map(code_dict)\n",
      "/var/folders/w3/gtm29qhx0wj4wg_y2_jw07hw0000gn/T/ipykernel_2454/2435810425.py:43: SettingWithCopyWarning: \n",
      "A value is trying to be set on a copy of a slice from a DataFrame\n",
      "\n",
      "See the caveats in the documentation: https://pandas.pydata.org/pandas-docs/stable/user_guide/indexing.html#returning-a-view-versus-a-copy\n",
      "  df.rename(columns = {'RACE':'Race'}, inplace = True)\n"
     ]
    }
   ],
   "source": [
    "# for RACE, map accordingly: Code Definition\n",
    "# 01 White\n",
    "# 02 Black\n",
    "# 03 American Indian, Aleutian, or Eskimo\n",
    "# 04 Chinese\n",
    "# 05 Japanese\n",
    "# 06 Filipino\n",
    "# 07 Hawaiian\n",
    "# 08 Korean\n",
    "# 10 Vietnamese\n",
    "# 11 Laotian\n",
    "# 12 Hmong\n",
    "# 13 Kampuchean (including Khmer and Cambodian)\n",
    "# 14 Thai\n",
    "# 15 Asian Indian or Pakistani, NOS (formerly code 09)\n",
    "# 16 Asian Indian\n",
    "# 17 Pakistani\n",
    "# 20 Micronesian, NOS\n",
    "# 21 Chamorran\n",
    "# 22 Guamanian, NOS\n",
    "# 25 Polynesian, NOS\n",
    "# 26 Tahitian\n",
    "# 27 Samoan\n",
    "# 28 Tongan\n",
    "# 30 Melanesian, NOS\n",
    "# 31 Fiji Islander\n",
    "# 32 New Guinean\n",
    "# 96 Other Asian, including Asian, NOS and Oriental, NOS\n",
    "# 97 Pacific Islander, NOS\n",
    "# 98 Other\n",
    "# 99 Unknown\n",
    "\n",
    "# Make sure `RACE` is a category if it isn't already\n",
    "df['RACE'] = df['RACE'].astype('category')\n",
    "\n",
    "# Create a dictionary to map old codes to new\n",
    "code_dict = {1: \"White\", 2: \"Black\", 3: \"American Indian, Aleutian, or Eskimo\", 4: \"Chinese\", 5: \"Japanese\", 6: \"Filipino\", 7: \"Hawaiian\", 8: \"Korean\", 10: \"Vietnamese\", 11: \"Laotian\", 12: \"Hmong\", 13: \"Kampuchean (including Khmer and Cambodian)\", 14: \"Thai\", 15: \"Asian Indian or Pakistani, NOS (formerly code 09)\", 16: \"Asian Indian\", 17: \"Pakistani\", 20: \"Micronesian, NOS\", 21: \"Chamorran\", 22: \"Guamanian, NOS\", 25: \"Polynesian, NOS\", 26: \"Tahitian\", 27: \"Samoan\", 28: \"Tongan\", 30: \"Melanesian, NOS\", 31: \"Fiji Islander\", 32: \"New Guinean\", 96: \"Other Asian, including Asian, NOS and Oriental, NOS\", 97: \"Pacific Islander, NOS\", 98: \"Other\", 99: \"Unknown\"}\n",
    "\n",
    "# Create new 'RACE' column\n",
    "df['RACE'] = df['RACE'].map(code_dict)\n",
    "\n",
    "# rename the column to something more intuitive\n",
    "df.rename(columns = {'RACE':'Race'}, inplace = True)"
   ]
  },
  {
   "cell_type": "code",
   "execution_count": 90,
   "metadata": {},
   "outputs": [
    {
     "name": "stderr",
     "output_type": "stream",
     "text": [
      "/var/folders/w3/gtm29qhx0wj4wg_y2_jw07hw0000gn/T/ipykernel_2454/3572790766.py:26: SettingWithCopyWarning: \n",
      "A value is trying to be set on a copy of a slice from a DataFrame.\n",
      "Try using .loc[row_indexer,col_indexer] = value instead\n",
      "\n",
      "See the caveats in the documentation: https://pandas.pydata.org/pandas-docs/stable/user_guide/indexing.html#returning-a-view-versus-a-copy\n",
      "  df['SPANISH_HISPANIC_ORIGIN'] = df['SPANISH_HISPANIC_ORIGIN'].astype('category')\n",
      "/var/folders/w3/gtm29qhx0wj4wg_y2_jw07hw0000gn/T/ipykernel_2454/3572790766.py:32: SettingWithCopyWarning: \n",
      "A value is trying to be set on a copy of a slice from a DataFrame.\n",
      "Try using .loc[row_indexer,col_indexer] = value instead\n",
      "\n",
      "See the caveats in the documentation: https://pandas.pydata.org/pandas-docs/stable/user_guide/indexing.html#returning-a-view-versus-a-copy\n",
      "  df['SPANISH_HISPANIC_ORIGIN'] = df['SPANISH_HISPANIC_ORIGIN'].map(code_dict)\n",
      "/var/folders/w3/gtm29qhx0wj4wg_y2_jw07hw0000gn/T/ipykernel_2454/3572790766.py:35: SettingWithCopyWarning: \n",
      "A value is trying to be set on a copy of a slice from a DataFrame\n",
      "\n",
      "See the caveats in the documentation: https://pandas.pydata.org/pandas-docs/stable/user_guide/indexing.html#returning-a-view-versus-a-copy\n",
      "  df.rename(columns = {'SPANISH_HISPANIC_ORIGIN':'Spanish/Hispanic Origin'}, inplace = True)\n"
     ]
    }
   ],
   "source": [
    "# for SPANISH_HISPANIC_ORIGIN, map accordingly: Code Definition: Code Definition\n",
    "# 0 Non-Spanish,Non-Hispanic\n",
    "# 1 Mexican(includesChicano)\n",
    "# 2 Puerto Rican\n",
    "# 3 Cuban\n",
    "# 4 South or Central America (except Brazil)\n",
    "# 5\n",
    "# Other SpecifiedSpanish/Hispanic Origin (includes European;\n",
    "# excludes Dominican Republic)\n",
    "# 6\n",
    "# Spanish, NOS;Hispanic, NOS; Latino, NOS (There is evidence other\n",
    "# than surname or maiden name that the person is Hispanic, but\n",
    "# he/she cannot be assigned to any category of 1 - 5)\n",
    "# 7\n",
    "# Spanish surname only (The only evidence of the person's Hispanic\n",
    "# origin issurname or maiden name, and there is no contrary evidence\n",
    "# that the person is not Hispanic)\n",
    "# 8\n",
    "# Dominican Republic (for use with patients who were diagnosed with\n",
    "# cancer on January 1, 2005, or later)\n",
    "# 9\n",
    "# Unknown whether of Spanish/Hispanic origin; not stated in patient\n",
    "# record\n",
    "\n",
    "# Make sure `SPANISH_HISPANIC_ORIGIN` is a category if it isn't already\n",
    "df['SPANISH_HISPANIC_ORIGIN'] = df['SPANISH_HISPANIC_ORIGIN'].astype('category')\n",
    "\n",
    "# Create a dictionary to map old codes to new\n",
    "code_dict = {0: \"Non-Spanish,Non-Hispanic\", 1: \"Mexican(includesChicano)\", 2: \"Puerto Rican\", 3: \"Cuban\", 4: \"South or Central America (except Brazil)\", 5: \"Other SpecifiedSpanish/Hispanic Origin (includes European; excludes Dominican Republic)\", 6: \"Spanish, NOS;Hispanic, NOS; Latino, NOS (There is evidence other than surname or maiden name that the person is Hispanic, but he/she cannot be assigned to any category of 1 - 5)\", 7: \"Spanish surname only (The only evidence of the person's Hispanic origin issurname or maiden name, and there is no contrary evidence that the person is not Hispanic)\", 8: \"Dominican Republic (for use with patients who were diagnosed with cancer on January 1, 2005, or later)\", 9: \"Unknown whether of Spanish/Hispanic origin; not stated in patient record\"}\n",
    "\n",
    "# Create new 'SPANISH_HISPANIC_ORIGIN' column\n",
    "df['SPANISH_HISPANIC_ORIGIN'] = df['SPANISH_HISPANIC_ORIGIN'].map(code_dict)\n",
    "\n",
    "# rename the column to something more intuitive\n",
    "df.rename(columns = {'SPANISH_HISPANIC_ORIGIN':'Spanish/Hispanic Origin'}, inplace = True)"
   ]
  },
  {
   "cell_type": "markdown",
   "metadata": {},
   "source": [
    "# Attempting to use R recode in jupyter"
   ]
  },
  {
   "cell_type": "code",
   "execution_count": 10,
   "metadata": {},
   "outputs": [
    {
     "name": "stderr",
     "output_type": "stream",
     "text": [
      "/var/folders/w3/gtm29qhx0wj4wg_y2_jw07hw0000gn/T/ipykernel_22292/3673361364.py:24: DtypeWarning: Columns (161,164,167,173,174,175,176,177,178,179,218,219) have mixed types. Specify dtype option on import or set low_memory=False.\n",
      "  df = pd.read_csv(\"/Users/collindougherty/Downloads/Desmoplastic Melanoma.csv\")\n",
      "/Users/collindougherty/anaconda3/lib/python3.11/site-packages/rpy2/robjects/pandas2ri.py:65: UserWarning: Error while trying to convert the column \"AJCC_ID\". Fall back to string conversion. The error is: Series can only be of one type, or None (and here we have <class 'float'> and <class 'str'>). If happening with a pandas DataFrame the method infer_objects() will normalize data types before conversion.\n",
      "  warnings.warn('Error while trying to convert '\n",
      "/Users/collindougherty/anaconda3/lib/python3.11/site-packages/rpy2/robjects/pandas2ri.py:65: UserWarning: Error while trying to convert the column \"AJCC_TNM_CLIN_M\". Fall back to string conversion. The error is: Series can only be of one type, or None (and here we have <class 'float'> and <class 'str'>). If happening with a pandas DataFrame the method infer_objects() will normalize data types before conversion.\n",
      "  warnings.warn('Error while trying to convert '\n",
      "/Users/collindougherty/anaconda3/lib/python3.11/site-packages/rpy2/robjects/pandas2ri.py:65: UserWarning: Error while trying to convert the column \"AJCC_TNM_CLIN_N\". Fall back to string conversion. The error is: Series can only be of one type, or None (and here we have <class 'float'> and <class 'str'>). If happening with a pandas DataFrame the method infer_objects() will normalize data types before conversion.\n",
      "  warnings.warn('Error while trying to convert '\n",
      "/Users/collindougherty/anaconda3/lib/python3.11/site-packages/rpy2/robjects/pandas2ri.py:65: UserWarning: Error while trying to convert the column \"AJCC_TNM_CLIN_N_SFX\". Fall back to string conversion. The error is: Series can only be of one type, or None (and here we have <class 'float'> and <class 'str'>). If happening with a pandas DataFrame the method infer_objects() will normalize data types before conversion.\n",
      "  warnings.warn('Error while trying to convert '\n",
      "/Users/collindougherty/anaconda3/lib/python3.11/site-packages/rpy2/robjects/pandas2ri.py:65: UserWarning: Error while trying to convert the column \"AJCC_TNM_CLIN_STG_GRP\". Fall back to string conversion. The error is: Series can only be of one type, or None (and here we have <class 'float'> and <class 'str'>). If happening with a pandas DataFrame the method infer_objects() will normalize data types before conversion.\n",
      "  warnings.warn('Error while trying to convert '\n",
      "/Users/collindougherty/anaconda3/lib/python3.11/site-packages/rpy2/robjects/pandas2ri.py:65: UserWarning: Error while trying to convert the column \"AJCC_TNM_CLIN_T\". Fall back to string conversion. The error is: Series can only be of one type, or None (and here we have <class 'float'> and <class 'str'>). If happening with a pandas DataFrame the method infer_objects() will normalize data types before conversion.\n",
      "  warnings.warn('Error while trying to convert '\n",
      "/Users/collindougherty/anaconda3/lib/python3.11/site-packages/rpy2/robjects/pandas2ri.py:65: UserWarning: Error while trying to convert the column \"AJCC_TNM_CLIN_T_SFX\". Fall back to string conversion. The error is: Series can only be of one type, or None (and here we have <class 'float'> and <class 'str'>). If happening with a pandas DataFrame the method infer_objects() will normalize data types before conversion.\n",
      "  warnings.warn('Error while trying to convert '\n",
      "/Users/collindougherty/anaconda3/lib/python3.11/site-packages/rpy2/robjects/pandas2ri.py:65: UserWarning: Error while trying to convert the column \"AJCC_TNM_PATH_M\". Fall back to string conversion. The error is: Series can only be of one type, or None (and here we have <class 'float'> and <class 'str'>). If happening with a pandas DataFrame the method infer_objects() will normalize data types before conversion.\n",
      "  warnings.warn('Error while trying to convert '\n",
      "/Users/collindougherty/anaconda3/lib/python3.11/site-packages/rpy2/robjects/pandas2ri.py:65: UserWarning: Error while trying to convert the column \"AJCC_TNM_PATH_N\". Fall back to string conversion. The error is: Series can only be of one type, or None (and here we have <class 'float'> and <class 'str'>). If happening with a pandas DataFrame the method infer_objects() will normalize data types before conversion.\n",
      "  warnings.warn('Error while trying to convert '\n",
      "/Users/collindougherty/anaconda3/lib/python3.11/site-packages/rpy2/robjects/pandas2ri.py:65: UserWarning: Error while trying to convert the column \"AJCC_TNM_PATH_N_SFX\". Fall back to string conversion. The error is: Series can only be of one type, or None (and here we have <class 'float'> and <class 'str'>). If happening with a pandas DataFrame the method infer_objects() will normalize data types before conversion.\n",
      "  warnings.warn('Error while trying to convert '\n",
      "/Users/collindougherty/anaconda3/lib/python3.11/site-packages/rpy2/robjects/pandas2ri.py:65: UserWarning: Error while trying to convert the column \"AJCC_TNM_PATH_STG_GRP\". Fall back to string conversion. The error is: Series can only be of one type, or None (and here we have <class 'float'> and <class 'str'>). If happening with a pandas DataFrame the method infer_objects() will normalize data types before conversion.\n",
      "  warnings.warn('Error while trying to convert '\n",
      "/Users/collindougherty/anaconda3/lib/python3.11/site-packages/rpy2/robjects/pandas2ri.py:65: UserWarning: Error while trying to convert the column \"AJCC_TNM_PATH_T\". Fall back to string conversion. The error is: Series can only be of one type, or None (and here we have <class 'float'> and <class 'str'>). If happening with a pandas DataFrame the method infer_objects() will normalize data types before conversion.\n",
      "  warnings.warn('Error while trying to convert '\n",
      "/Users/collindougherty/anaconda3/lib/python3.11/site-packages/rpy2/robjects/pandas2ri.py:65: UserWarning: Error while trying to convert the column \"AJCC_TNM_PATH_T_SFX\". Fall back to string conversion. The error is: Series can only be of one type, or None (and here we have <class 'float'> and <class 'str'>). If happening with a pandas DataFrame the method infer_objects() will normalize data types before conversion.\n",
      "  warnings.warn('Error while trying to convert '\n",
      "/Users/collindougherty/anaconda3/lib/python3.11/site-packages/rpy2/robjects/pandas2ri.py:65: UserWarning: Error while trying to convert the column \"AJCC_TNM_POST_PATH_M\". Fall back to string conversion. The error is: Series can only be of one type, or None (and here we have <class 'float'> and <class 'str'>). If happening with a pandas DataFrame the method infer_objects() will normalize data types before conversion.\n",
      "  warnings.warn('Error while trying to convert '\n",
      "/Users/collindougherty/anaconda3/lib/python3.11/site-packages/rpy2/robjects/pandas2ri.py:65: UserWarning: Error while trying to convert the column \"AJCC_TNM_POST_PATH_N\". Fall back to string conversion. The error is: Series can only be of one type, or None (and here we have <class 'float'> and <class 'str'>). If happening with a pandas DataFrame the method infer_objects() will normalize data types before conversion.\n",
      "  warnings.warn('Error while trying to convert '\n",
      "/Users/collindougherty/anaconda3/lib/python3.11/site-packages/rpy2/robjects/pandas2ri.py:65: UserWarning: Error while trying to convert the column \"AJCC_TNM_POST_PATH_N_SFX\". Fall back to string conversion. The error is: Series can only be of one type, or None (and here we have <class 'float'> and <class 'str'>). If happening with a pandas DataFrame the method infer_objects() will normalize data types before conversion.\n",
      "  warnings.warn('Error while trying to convert '\n",
      "/Users/collindougherty/anaconda3/lib/python3.11/site-packages/rpy2/robjects/pandas2ri.py:65: UserWarning: Error while trying to convert the column \"AJCC_TNM_POST_PATH_STG_GRP\". Fall back to string conversion. The error is: Series can only be of one type, or None (and here we have <class 'float'> and <class 'str'>). If happening with a pandas DataFrame the method infer_objects() will normalize data types before conversion.\n",
      "  warnings.warn('Error while trying to convert '\n",
      "/Users/collindougherty/anaconda3/lib/python3.11/site-packages/rpy2/robjects/pandas2ri.py:65: UserWarning: Error while trying to convert the column \"AJCC_TNM_POST_PATH_T\". Fall back to string conversion. The error is: Series can only be of one type, or None (and here we have <class 'float'> and <class 'str'>). If happening with a pandas DataFrame the method infer_objects() will normalize data types before conversion.\n",
      "  warnings.warn('Error while trying to convert '\n",
      "/Users/collindougherty/anaconda3/lib/python3.11/site-packages/rpy2/robjects/pandas2ri.py:65: UserWarning: Error while trying to convert the column \"AJCC_TNM_POST_PATH_T_SFX\". Fall back to string conversion. The error is: Series can only be of one type, or None (and here we have <class 'float'> and <class 'str'>). If happening with a pandas DataFrame the method infer_objects() will normalize data types before conversion.\n",
      "  warnings.warn('Error while trying to convert '\n",
      "/Users/collindougherty/anaconda3/lib/python3.11/site-packages/rpy2/robjects/pandas2ri.py:65: UserWarning: Error while trying to convert the column \"BRESLOW_THICKNESS\". Fall back to string conversion. The error is: Series can only be of one type, or None (and here we have <class 'float'> and <class 'str'>). If happening with a pandas DataFrame the method infer_objects() will normalize data types before conversion.\n",
      "  warnings.warn('Error while trying to convert '\n",
      "/Users/collindougherty/anaconda3/lib/python3.11/site-packages/rpy2/robjects/pandas2ri.py:65: UserWarning: Error while trying to convert the column \"GRADE_CLIN\". Fall back to string conversion. The error is: Series can only be of one type, or None (and here we have <class 'float'> and <class 'str'>). If happening with a pandas DataFrame the method infer_objects() will normalize data types before conversion.\n",
      "  warnings.warn('Error while trying to convert '\n",
      "/Users/collindougherty/anaconda3/lib/python3.11/site-packages/rpy2/robjects/pandas2ri.py:65: UserWarning: Error while trying to convert the column \"GRADE_PATH\". Fall back to string conversion. The error is: Series can only be of one type, or None (and here we have <class 'float'> and <class 'str'>). If happening with a pandas DataFrame the method infer_objects() will normalize data types before conversion.\n",
      "  warnings.warn('Error while trying to convert '\n",
      "/Users/collindougherty/anaconda3/lib/python3.11/site-packages/rpy2/robjects/pandas2ri.py:65: UserWarning: Error while trying to convert the column \"LDH_PRE_TX_VALUE\". Fall back to string conversion. The error is: Series can only be of one type, or None (and here we have <class 'float'> and <class 'str'>). If happening with a pandas DataFrame the method infer_objects() will normalize data types before conversion.\n",
      "  warnings.warn('Error while trying to convert '\n",
      "/Users/collindougherty/anaconda3/lib/python3.11/site-packages/rpy2/robjects/pandas2ri.py:65: UserWarning: Error while trying to convert the column \"LDH_UPPER_NORMAL\". Fall back to string conversion. The error is: Series can only be of one type, or None (and here we have <class 'float'> and <class 'str'>). If happening with a pandas DataFrame the method infer_objects() will normalize data types before conversion.\n",
      "  warnings.warn('Error while trying to convert '\n",
      "/Users/collindougherty/anaconda3/lib/python3.11/site-packages/rpy2/robjects/pandas2ri.py:65: UserWarning: Error while trying to convert the column \"MITOTIC_RATE_MELANO\". Fall back to string conversion. The error is: Series can only be of one type, or None (and here we have <class 'float'> and <class 'str'>). If happening with a pandas DataFrame the method infer_objects() will normalize data types before conversion.\n",
      "  warnings.warn('Error while trying to convert '\n"
     ]
    },
    {
     "data": {
      "text/html": [
       "\n",
       "        <span>R/rpy2 DataFrame (6 x 338)</span>\n",
       "        <table>\n",
       "          <thead>\n",
       "            <tr>\n",
       "              \n",
       "              <th>PUF_CASE_ID</th>\n",
       "              \n",
       "              <th>PUF_FACILITY_ID</th>\n",
       "              \n",
       "              <th>FACILITY_TYPE_CD</th>\n",
       "              \n",
       "              <th>...</th>\n",
       "              \n",
       "              <th>JOINT_SURG_MARGINS</th>\n",
       "              \n",
       "              <th>SURGERY_MARGINS</th>\n",
       "              \n",
       "              <th>RECODED_STATUS</th>\n",
       "              \n",
       "            </tr>\n",
       "          </thead>\n",
       "          <tbody>\n",
       "          \n",
       "          <tr>\n",
       "            \n",
       "            <td>\n",
       "              ...\n",
       "            </td>\n",
       "            \n",
       "            <td>\n",
       "              IKGDE...\n",
       "            </td>\n",
       "            \n",
       "            <td>\n",
       "              Acade...\n",
       "            </td>\n",
       "            \n",
       "            <td>\n",
       "              ...\n",
       "            </td>\n",
       "            \n",
       "            <td>\n",
       "              Surge...\n",
       "            </td>\n",
       "            \n",
       "            <td>\n",
       "              Surge...\n",
       "            </td>\n",
       "            \n",
       "            <td>\n",
       "              ...\n",
       "            </td>\n",
       "            \n",
       "          </tr>\n",
       "          \n",
       "          </tbody>\n",
       "        </table>\n",
       "    "
      ],
      "text/plain": [
       "<rpy2.robjects.vectors.DataFrame object at 0x296622e90> [19]\n",
       "R classes: ('data.frame',)\n",
       "[StrSexpVe..., IntSexpVe..., IntSexpVe..., IntSexpVe..., ..., IntSexpVe..., IntSexpVe..., IntSexpVe..., FloatSexp...]\n",
       "  PUF_CASE_ID: <class 'numpy.ndarray'>\n",
       "  array(['Dbd2f9c45-3f8b-4a3a-8e9b-17349689b845',\n",
       "       'D54462578-3374-4e88-a1b2-0814cece8633',\n",
       "       'D87560b7a-3486-41ae-908f-1c09e438664b',\n",
       "       'Dc3c34b0d-d7cd-4591-aa96-9b32261d88f1',\n",
       "       'D64bcf370-7832-45ec-8997-bb2d9394f62d',\n",
       "       'Db7357878-89ac-4f9c-912d-ca92837e5a04'], dtype='<U37')\n",
       "  PUF_FACILITY_ID: <class 'rpy2.robjects.vectors.FactorVector'>\n",
       "  <rpy2.robjects.vectors.FactorVector object at 0x174c7fe10> [13]\n",
       "R classes: ('factor',)\n",
       "[IKGDE..., VZDFC..., JXMKM..., GWKZW..., JXMKM..., JXMKM...]\n",
       "  FACILITY_TYPE_CD: <class 'rpy2.robjects.vectors.FactorVector'>\n",
       "  <rpy2.robjects.vectors.FactorVector object at 0x17503c490> [13]\n",
       "R classes: ('factor',)\n",
       "[Acade..., Compr..., Acade..., Compr..., Acade..., Acade...]\n",
       "  FACILITY_LOCATION_CD: <class 'rpy2.robjects.vectors.FactorVector'>\n",
       "  <rpy2.robjects.vectors.FactorVector object at 0x2ee364cd0> [13]\n",
       "R classes: ('factor',)\n",
       "[Mount..., South..., South..., Pacific, South..., South...]\n",
       "...\n",
       "  SEX: <class 'rpy2.robjects.vectors.FactorVector'>\n",
       "  <rpy2.robjects.vectors.FactorVector object at 0x2c8d25b50> [13]\n",
       "R classes: ('factor',)\n",
       "[Surgery, Surgery, Surgery, Surgery, Surgery, Surgery]\n",
       "  RACE: <class 'rpy2.robjects.vectors.FactorVector'>\n",
       "  <rpy2.robjects.vectors.FactorVector object at 0x295744e50> [13]\n",
       "R classes: ('factor',)\n",
       "[Surge..., Surge..., Surge..., Surge..., Surge..., Surge...]\n",
       "  SPANISH_HISPANIC_ORIGIN: <class 'rpy2.robjects.vectors.FactorVector'>\n",
       "  <rpy2.robjects.vectors.FactorVector object at 0x2b60cbf10> [13]\n",
       "R classes: ('factor',)\n",
       "[Surge..., Surge..., Surge..., Surge..., Surge..., Surge...]\n",
       "  INSURANCE_STATUS: <class 'numpy.ndarray'>\n",
       "  array([1., 0., 0., 0., 0., 0.])"
      ]
     },
     "execution_count": 10,
     "metadata": {},
     "output_type": "execute_result"
    }
   ],
   "source": [
    "import rpy2.robjects.packages as rpackages\n",
    "from rpy2.robjects.vectors import StrVector\n",
    "import pandas as pd\n",
    "from rpy2.robjects import pandas2ri\n",
    "import rpy2.robjects as robjects\n",
    "\n",
    "# Load the NCDBRecode function from the R script\n",
    "utils = rpackages.importr('utils')\n",
    "utils.chooseCRANmirror(ind=69)\n",
    "r = robjects.r\n",
    "\n",
    "# install dplyr\n",
    "#utils.install_packages('dplyr')\n",
    "# Import R packages\n",
    "dplyr = rpackages.importr('dplyr')\n",
    "\n",
    "# Load your R script\n",
    "r['source']('/Users/collindougherty/Documents/Work/pipeline/NCDBRecode.R')\n",
    "\n",
    "# Get your function by name \n",
    "NCDBRecode_func = r['ncdb_recode']\n",
    "\n",
    "# import data\n",
    "df = pd.read_csv(\"/Users/collindougherty/Downloads/Desmoplastic Melanoma.csv\")\n",
    "\n",
    "pandas2ri.activate()\n",
    "# Convert your pandas dataframe to an R dataframe\n",
    "rdf = pandas2ri.py2rpy(df)\n",
    "\n",
    "# Apply your function to the R dataframe\n",
    "rdf_recode = NCDBRecode_func(rdf)\n",
    "\n",
    "# Convert the R dataframe back to a pandas dataframe\n",
    "df_recode = pandas2ri.ri2py_vector(rdf_recode)\n",
    "\n",
    "df_recode.head()"
   ]
  },
  {
   "cell_type": "code",
   "execution_count": 11,
   "metadata": {},
   "outputs": [],
   "source": [
    "head_df = df_recode.head(20)"
   ]
  },
  {
   "cell_type": "code",
   "execution_count": null,
   "metadata": {},
   "outputs": [
    {
     "name": "stderr",
     "output_type": "stream",
     "text": [
      "/var/folders/w3/gtm29qhx0wj4wg_y2_jw07hw0000gn/T/ipykernel_2454/1776529811.py:2: SettingWithCopyWarning: \n",
      "A value is trying to be set on a copy of a slice from a DataFrame.\n",
      "Try using .loc[row_indexer,col_indexer] = value instead\n",
      "\n",
      "See the caveats in the documentation: https://pandas.pydata.org/pandas-docs/stable/user_guide/indexing.html#returning-a-view-versus-a-copy\n",
      "  df['PUF_FACILITY_ID'] = df['PUF_FACILITY_ID'].astype('category')\n"
     ]
    }
   ],
   "source": [
    "# facility id is useful, its a factor variable\n",
    "df['PUF_FACILITY_ID'] = df['PUF_FACILITY_ID'].astype('category')"
   ]
  }
 ],
 "metadata": {
  "kernelspec": {
   "display_name": "base",
   "language": "python",
   "name": "python3"
  },
  "language_info": {
   "codemirror_mode": {
    "name": "ipython",
    "version": 3
   },
   "file_extension": ".py",
   "mimetype": "text/x-python",
   "name": "python",
   "nbconvert_exporter": "python",
   "pygments_lexer": "ipython3",
   "version": "3.11.0"
  }
 },
 "nbformat": 4,
 "nbformat_minor": 2
}
